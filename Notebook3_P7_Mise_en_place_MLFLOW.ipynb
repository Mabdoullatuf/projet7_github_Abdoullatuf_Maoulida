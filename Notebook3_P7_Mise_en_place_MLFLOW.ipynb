{
 "cells": [
  {
   "cell_type": "markdown",
   "id": "c13e76cc",
   "metadata": {},
   "source": [
    "### Implémentez un model de scorin (suite):"
   ]
  },
  {
   "cell_type": "markdown",
   "id": "6dfa18a6",
   "metadata": {},
   "source": [
    "Ce notbook fait partie du projet 7 de la formation data science. Ici on met en place le suivi du model final sur MLflow.\\\n",
    "Lien de suivi: http://127.0.0.1:5000/#/experiments/900031322788419432/runs/3d4248f77fe2422ab664d3952f172eac"
   ]
  },
  {
   "cell_type": "code",
   "execution_count": null,
   "id": "f5e37763",
   "metadata": {},
   "outputs": [],
   "source": [
    "#Si un moment mlflow ne se lance pas, il faut essayer de redémarer le serveur mlflow\n",
    "#avec la commande suivante sur un terminal anaconda prompt par exemple:\n",
    "#activer d'abord l'environement:    conda activate monenvprojet\n",
    "#se placer dans le repertoir et executer la commande suivante: mlflow server --host 0.0.0.0 --port 5000"
   ]
  },
  {
   "cell_type": "code",
   "execution_count": 37,
   "id": "c49434ba",
   "metadata": {},
   "outputs": [],
   "source": [
    "import pandas as pd\n",
    "import numpy as np\n",
    "import seaborn as sns\n",
    "import matplotlib.pyplot as plt\n",
    "import sklearn\n",
    "import joblib\n",
    "import mlflow\n",
    "from lightgbm import LGBMClassifier\n",
    "from sklearn.metrics import roc_auc_score, f1_score, roc_curve\n",
    "from hyperopt import fmin, tpe, hp, STATUS_OK, Trials, space_eval\n",
    "#from sklearn.model_selection import GridSearchCV\n",
    "from sklearn import metrics"
   ]
  },
  {
   "cell_type": "code",
   "execution_count": 13,
   "id": "86fe98fa",
   "metadata": {},
   "outputs": [],
   "source": [
    "#path_new_data = notebooks_P7/Data_projet7/new_data/\n",
    "path_new_data = \"C:/Users/aella/Desktop/P7_Model_de_scoring_Abdoullatuf_Maoulida_Aout_2023/Data_P7/New_data/\""
   ]
  },
  {
   "cell_type": "code",
   "execution_count": 14,
   "id": "e4d8ac39",
   "metadata": {},
   "outputs": [],
   "source": [
    "import pickle\n",
    "with open('final_model.pkl', 'rb') as f:\n",
    "    final_model = pickle.load(f)\n",
    "#final_model = joblib.load(\"best_lgbm_3.joblib\") \n",
    "#best_parameters = joblib.load(\"best_lgbm_params.joblib\")\n",
    " \n",
    "\n",
    "X_test_selected = joblib.load(path_new_data + 'X_test_selected.joblib')\n",
    "X_train_selected = joblib.load(path_new_data + \"X_train_selected.joblib\")\n",
    "\n",
    "\n",
    "y_test_selected = joblib.load(path_new_data + 'y_test_selected.joblib')\n",
    "y_train_selected = joblib.load(path_new_data + 'y_train_selected.joblib')"
   ]
  },
  {
   "cell_type": "code",
   "execution_count": 23,
   "id": "3fcb6b66",
   "metadata": {},
   "outputs": [],
   "source": [
    "from sklearn.metrics import make_scorer\n",
    "from sklearn.metrics import confusion_matrix\n",
    "def custom_metric(y_true, y_pred):\n",
    "    tn, fp, fn, tp = confusion_matrix(y_true, y_pred).ravel()\n",
    "    return 0.9 * fp / (tn + fp) + 0.1 * fn / (tp + fn)\n",
    "\n",
    "credit_score_3 = make_scorer(custom_metric, greater_is_better=False)"
   ]
  },
  {
   "cell_type": "code",
   "execution_count": 21,
   "id": "859886e0",
   "metadata": {},
   "outputs": [],
   "source": [
    "seed = 42\n",
    "seuil = 0.70 #optimal_threshold\n",
    "def eval_metrics(y_true, y_pred_prob, seuil = seuil):\n",
    "    \"y_pred_prob c'est la probabilité qu'un client soit solvable\"\n",
    "    auc_score = roc_auc_score(y_true, y_pred_prob)\n",
    "    pred = np.where(y_pred_prob > seuil, 1, 0)\n",
    "    score = custom_metric(y_true, pred) #metric_banking_3(y_true, pred)\n",
    "    f1score = f1_score(y_true, pred, average='weighted')\n",
    "    return auc_score, score, f1score"
   ]
  },
  {
   "cell_type": "code",
   "execution_count": 26,
   "id": "45511568",
   "metadata": {},
   "outputs": [
    {
     "data": {
      "text/plain": [
       "(0.7468871199336826, 0.7628552158273382, 0.8870386155811304)"
      ]
     },
     "execution_count": 26,
     "metadata": {},
     "output_type": "execute_result"
    }
   ],
   "source": [
    "y_pred_prob = final_model.predict_proba(X_test_selected)[:,1]\n",
    "eval_metrics(y_test_selected, y_pred_prob, seuil = seuil)"
   ]
  },
  {
   "cell_type": "code",
   "execution_count": 27,
   "id": "f67f978c",
   "metadata": {},
   "outputs": [],
   "source": [
    "seuil_proba =  0.70 #optimal_threshold\n",
    "import matplotlib.pyplot as plt\n",
    "import numpy as np\n",
    "\n",
    "def plot_confusion_matrix(cm, class_names, title=\"Confusion matrix\", cmap=plt.cm.Blues, normalize=True):\n",
    "    \"\"\"\n",
    "    This function plots the confusion matrix.\n",
    "    \"\"\"\n",
    "    if normalize:\n",
    "        cm = cm.astype(\"float\") / cm.sum(axis=1)[:, np.newaxis]\n",
    "\n",
    "    fig, ax = plt.subplots()\n",
    "    im = ax.imshow(cm, interpolation=\"nearest\", cmap=cmap)\n",
    "    ax.figure.colorbar(im, ax=ax)\n",
    "    ax.set(\n",
    "        xticks=np.arange(cm.shape[1]),\n",
    "        yticks=np.arange(cm.shape[0]),\n",
    "        ylim=(cm.shape[0] - 0.5, -0.5),\n",
    "        xticklabels=class_names,\n",
    "        yticklabels=class_names,\n",
    "        title=title,\n",
    "        xlabel=\"Ground truth label\",\n",
    "        ylabel=\"Predicted label\",\n",
    "    )\n",
    "\n",
    "    # Rotate the tick labels and set their alignment.\n",
    "    plt.setp(ax.get_xticklabels(), rotation=30,\n",
    "             ha=\"right\", rotation_mode=\"anchor\")\n",
    "\n",
    "    # Loop over data dimensions and create text annotations for both numbers and percentages.\n",
    "    fmt = \".2f\" if normalize else \"d\"\n",
    "    thresh = cm.max() / 2.0\n",
    "    for i in range(cm.shape[0]):\n",
    "        for j in range(cm.shape[1]):\n",
    "            text = format(cm[i, j], fmt)\n",
    "            if normalize:\n",
    "                text += f\" ({cm[i, j]*100:.1f}%)\"\n",
    "            ax.text(\n",
    "                j,\n",
    "                i,\n",
    "                text,\n",
    "                ha=\"center\",\n",
    "                va=\"center\",\n",
    "                color=\"white\" if cm[i, j] > thresh else \"black\",\n",
    "            )\n",
    "    fig.tight_layout()\n",
    "    return ax, fig"
   ]
  },
  {
   "cell_type": "code",
   "execution_count": 28,
   "id": "ea9fed97",
   "metadata": {},
   "outputs": [],
   "source": [
    "import matplotlib.pyplot as plt\n",
    "from sklearn.metrics import roc_auc_score\n",
    "\n",
    "def create_roc_plot(fpr, tpr, model_lgbmc):\n",
    "    \"\"\"\n",
    "    Create ROC curve.\n",
    "    :param fpr: false positive.\n",
    "    :param tpr: true positive.\n",
    "    :return: returns a tuple of plt, fig, ax\n",
    "    \"\"\"\n",
    "    # Calculate AUC score\n",
    "    probs_lgbmc = model_lgbmc.predict_proba(X_test_selected)[:, 1]\n",
    "    auc_score = roc_auc_score(y_test_selected, probs_lgbmc)\n",
    "    \n",
    "    fig, ax = plt.subplots(nrows=1, ncols=1)\n",
    "    ax.plot(fpr, tpr, label=f'AUC = {auc_score:.3f}')\n",
    "    ax.plot([0, 1], [0, 1], linestyle='--', label='Random guess')\n",
    "    ax.set_xlabel('False positive rate')\n",
    "    ax.set_ylabel('True positive rate')\n",
    "    ax.set_title('ROC curve')\n",
    "    ax.legend()\n",
    "    \n",
    "    \n",
    "    \n",
    "    return plt, fig, ax"
   ]
  },
  {
   "cell_type": "markdown",
   "id": "6b341c62",
   "metadata": {},
   "source": [
    "### Expérience 1: LGBMClassifier - modèle optimisé sur le score metier:"
   ]
  },
  {
   "cell_type": "code",
   "execution_count": 38,
   "id": "6e3b7f66",
   "metadata": {},
   "outputs": [
    {
     "name": "stdout",
     "output_type": "stream",
     "text": [
      "100%|█████████████████████████████████████████| 100/100 [11:49:36<00:00, 425.77s/trial, best loss: 0.08285285848172448]\n"
     ]
    },
    {
     "name": "stderr",
     "output_type": "stream",
     "text": [
      "C:\\Users\\aella\\anaconda3\\envs\\monenvprojet\\lib\\site-packages\\_distutils_hack\\__init__.py:33: UserWarning: Setuptools is replacing distutils.\n",
      "  warnings.warn(\"Setuptools is replacing distutils.\")\n"
     ]
    },
    {
     "data": {
      "image/png": "[encoded data removed]",
      "text/plain": [
       "<Figure size 640x480 with 1 Axes>"
      ]
     },
     "metadata": {},
     "output_type": "display_data"
    }
   ],
   "source": [
    "import mlflow\n",
    "\n",
    "#mlflow.start_run(nested=True)\n",
    "\n",
    "mlflow.set_tracking_uri(\"http://127.0.0.1:5000\")\n",
    "mlflow.set_experiment('LGBMC optimisé sur le score métier')\n",
    "#mlflow.sklearn.autolog() n'est pas supporté par la version sklearn que j'utilise ici\n",
    "\n",
    "seuil = 0.70 # optimal_threshold\n",
    "\n",
    "with mlflow.start_run(run_name='HyperOpt_lgbmClassifier', nested=True) as run:\n",
    "          \n",
    "    from sklearn.model_selection import cross_val_score, StratifiedKFold\n",
    "    from sklearn.metrics import precision_score, recall_score\n",
    "    cv = StratifiedKFold(5)\n",
    "    seed = 42\n",
    "    \n",
    "    # Définir l'espace des hyperparamètres à explorer\n",
    "    \n",
    "\n",
    "    # Définir la fonction objectif à minimiser\n",
    "   #Parameter space\n",
    "    space = {\n",
    "    'n_estimators': hp.quniform('n_estimators', 100, 600, 100),\n",
    "    'learning_rate': hp.uniform('learning_rate', 0.001, 0.03),\n",
    "    'max_depth': hp.quniform('max_depth', 3, 7, 1),\n",
    "    'num_leaves': hp.quniform('num_leaves', 10, 100, 10),\n",
    "    'subsample': hp.uniform('subsample', 0.60, 0.95),\n",
    "    'colsample_bytree': hp.uniform('colsample_bytree', 0.60, 0.95),\n",
    "    'reg_lambda': hp.uniform('reg_lambda', 1, 20),\n",
    "    'seed': 2023,    # Seed fixe pour la reproductibilité\n",
    "    'boosting_type': 'gbdt'    # Type d'algorithme boosting\n",
    "    }\n",
    "    def objective(params):\n",
    "        \n",
    "        #objective function to be minimized. \n",
    "        #Hyperopt will seek to minimize the loss returned by this function.\n",
    "\n",
    "        params = {        \n",
    "        'n_estimators': int(params['n_estimators']),\n",
    "        'learning_rate': params['learning_rate'],\n",
    "        'max_depth': int(params['max_depth']),\n",
    "        'num_leaves': int(params['num_leaves']),\n",
    "        'subsample': params['subsample'],\n",
    "        'colsample_bytree': params['colsample_bytree'],\n",
    "        'reg_lambda': params['reg_lambda'],\n",
    "        'random_state': params['seed'], # Renommons 'seed' en 'random_state'\n",
    "        'boosting_type': params['boosting_type']     \n",
    "        }\n",
    "\n",
    "    \n",
    "        clf= LGBMClassifier(**params)\n",
    "        cv = StratifiedKFold(5)\n",
    "      \n",
    "        score = cross_val_score(clf, X_train_selected, y_train_selected, scoring=credit_score_3, cv=cv).mean()\n",
    "\n",
    "       \n",
    "        return {'loss': -score, 'params': params, 'status': STATUS_OK} \n",
    "\n",
    "\n",
    "\n",
    "       # Créer une instance de Trials pour enregistrer les résultats de chaque essai\n",
    "    trials = Trials()\n",
    "\n",
    "    # Utiliser l'algorithme TPE (Tree-structured Parzen Estimator) pour l'optimisation\n",
    "    best = fmin(fn=objective, space=space, algo=tpe.suggest, max_evals=100,  # Nombre d'essais d'hyperparamètres à effectuer\n",
    "        trials=trials\n",
    "    )\n",
    "\n",
    "        \n",
    "    clf = LGBMClassifier( #Fit a new model based on the best parameters\n",
    "                            n_estimators=int(best['n_estimators']), \n",
    "                            learning_rate= best['learning_rate'],\n",
    "                            max_depth= int(best['max_depth']),\n",
    "                            num_leaves = int(best['num_leaves']),\n",
    "                            subsample= best['subsample'],\n",
    "                            colsample_bytree= best['colsample_bytree'],\n",
    "                            reg_lambda= best['reg_lambda'],\n",
    "                            boosting_type = 'gbdt',\n",
    "                            objective = 'binary',\n",
    "                            random_state = 2023\n",
    "                            )\n",
    "    \n",
    "    # Optimiser ce classifieur sur le jeu d'entraînement\n",
    "    clf.fit(X_train_selected, y_train_selected)      \n",
    "    \n",
    "    y_pred_prob = clf.predict_proba(X_test_selected)[:, 1]\n",
    "\n",
    "    plot_file = \"roc-auc-plot.png\"\n",
    "    fpr, tpr, thresholds = roc_curve(y_test_selected, y_pred_prob)\n",
    "    plt_roc, fig_roc, ax_roc = create_roc_plot(fpr, tpr,clf)\n",
    "    fig_roc.savefig(plot_file)\n",
    "\n",
    "    \n",
    "    (auc_score, score, f1score) = eval_metrics(y_test_selected, y_pred_prob, seuil = seuil)\n",
    "\n",
    "    pred = np.where(y_pred_prob > seuil, 1, 0)\n",
    "\n",
    "    class_names = [\"Non Solvable\", \"Solvable\"]\n",
    "    cf_matrix = metrics.confusion_matrix(y_test_selected, pred)\n",
    "        \n",
    "\n",
    "    ax, fig = plot_confusion_matrix(\n",
    "    cf_matrix, class_names, normalize=False)\n",
    "    plt.savefig(\"confusion_matrix.png\")\n",
    "    plt.close(fig)\n",
    "    \n",
    "    \n",
    "\n",
    "#------------------------------------------------------------------------------------------   \n",
    "    #mlflow.log_dict(best_1, \"best_params.json\")\n",
    "    if not best == None:\n",
    "            for param in best:\n",
    "                mlflow.log_param(param, best[param]) \n",
    "#--------------------------------------------------------------------------    \n",
    "    mlflow.log_metric(\"metric_banking\", score)\n",
    "    mlflow.log_metric(\"AUC\", auc_score)\n",
    "    mlflow.log_metric(\"f1_score\", f1score) \n",
    "    mlflow.log_metric(\"Precision\", precision_score(y_test_selected, pred))\n",
    "    mlflow.log_metric(\"Recall\", recall_score(y_test_selected, pred))\n",
    "    mlflow.log_artifact(\"confusion_matrix.png\")\n",
    "    mlflow.log_artifact(plot_file, \"roc-auc-plots\")\n",
    "    mlflow.sklearn.log_model(clf, \"best_lgbmc\")\n",
    "mlflow.end_run()"
   ]
  },
  {
   "cell_type": "code",
   "execution_count": null,
   "id": "8608809e",
   "metadata": {},
   "outputs": [],
   "source": []
  },
  {
   "cell_type": "code",
   "execution_count": null,
   "id": "d20cb0ce",
   "metadata": {},
   "outputs": [],
   "source": []
  }
 ],
 "metadata": {
  "kernelspec": {
   "display_name": "Python 3 (ipykernel)",
   "language": "python",
   "name": "python3"
  },
  "language_info": {
   "codemirror_mode": {
    "name": "ipython",
    "version": 3
   },
   "file_extension": ".py",
   "mimetype": "text/x-python",
   "name": "python",
   "nbconvert_exporter": "python",
   "pygments_lexer": "ipython3",
   "version": "3.9.16"
  }
 },
 "nbformat": 4,
 "nbformat_minor": 5
}
